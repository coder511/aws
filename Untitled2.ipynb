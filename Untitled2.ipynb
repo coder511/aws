{
 "cells": [
  {
   "cell_type": "code",
   "execution_count": 1,
   "id": "debb6319",
   "metadata": {},
   "outputs": [],
   "source": [
    "import requests\n",
    "from bs4 import BeautifulSoup\n",
    "url =\"https://dot.ca.gov/programs/procurement-and-contracts/contracts-out-for-bid\""
   ]
  },
  {
   "cell_type": "code",
   "execution_count": 2,
   "id": "e6279c49",
   "metadata": {},
   "outputs": [],
   "source": [
    "import datetime"
   ]
  },
  {
   "cell_type": "code",
   "execution_count": 3,
   "id": "abf7052a",
   "metadata": {},
   "outputs": [
    {
     "name": "stdout",
     "output_type": "stream",
     "text": [
      "35856\n"
     ]
    }
   ],
   "source": [
    "# STEP-1: GET THE HTML\n",
    "\n",
    "r = requests.get(url)   # r variable has all the HTML code\n",
    "htmlContent = r.content # r returns response so if we want the code we write r.content\n",
    "htmlContent = str(htmlContent)\n",
    "print(len(htmlContent))"
   ]
  },
  {
   "cell_type": "code",
   "execution_count": 4,
   "id": "27731404",
   "metadata": {},
   "outputs": [
    {
     "name": "stdout",
     "output_type": "stream",
     "text": [
      "<class 'bs4.BeautifulSoup'>\n"
     ]
    }
   ],
   "source": [
    "# STEP-2: PARSE THE HTML\n",
    "r = requests.get(url)\n",
    "soup = BeautifulSoup(r.content, 'html.parser')\n",
    "print(type(soup))"
   ]
  },
  {
   "cell_type": "code",
   "execution_count": 5,
   "id": "6277e187",
   "metadata": {},
   "outputs": [],
   "source": [
    "\n",
    "#print(soup.prettify[:500]()) # to print html in tree structure\n"
   ]
  },
  {
   "cell_type": "code",
   "execution_count": 6,
   "id": "b0ac4b90",
   "metadata": {},
   "outputs": [
    {
     "name": "stdout",
     "output_type": "stream",
     "text": [
      "<title property=\"og:title\">Contracts Out for Bid | Caltrans</title>\n",
      "<class 'bs4.element.Tag'>\n"
     ]
    }
   ],
   "source": [
    "#get title of html page\n",
    "title=soup.title\n",
    "print(title)\n",
    "print(type(title))"
   ]
  },
  {
   "cell_type": "code",
   "execution_count": 7,
   "id": "37966369",
   "metadata": {},
   "outputs": [],
   "source": [
    "with open('webpage.html', 'w', encoding='utf-8') as f:\n",
    "    f.write(htmlContent)"
   ]
  },
  {
   "cell_type": "code",
   "execution_count": 8,
   "id": "381840f3",
   "metadata": {},
   "outputs": [
    {
     "name": "stdout",
     "output_type": "stream",
     "text": [
      "[<p>Caltrans encourages Disadvantaged Business Enterprises (DBE), Disabled Veteran Business Enterprises (DVBE), and Certified Small Businesses (SB) and Microbusinesses (MB) participation in all contracts.</p>, <p>The following contracts have been listed with Cal eProcure. For the most current information, please visit <a href=\"https://caleprocure.ca.gov/pages/public-search.aspx\">Cal eProcure</a> as this list may not be all-inclusive.</p>]\n"
     ]
    }
   ],
   "source": [
    "#Get all the paragraphs from the page\n",
    "paras=soup.find_all(\"p\")\n",
    "print(paras)"
   ]
  },
  {
   "cell_type": "code",
   "execution_count": 9,
   "id": "4bd29e20",
   "metadata": {},
   "outputs": [
    {
     "name": "stdout",
     "output_type": "stream",
     "text": [
      "76\n"
     ]
    }
   ],
   "source": [
    "#Get all the anchor tags from the page\n",
    "anchors=soup.find_all(\"a\")\n",
    "print(len(anchors))"
   ]
  },
  {
   "cell_type": "code",
   "execution_count": 10,
   "id": "6cc6d56f",
   "metadata": {},
   "outputs": [
    {
     "name": "stdout",
     "output_type": "stream",
     "text": [
      "https://dot.ca.gov/programs/procurement-and-contracts/contracts-out-for-bid#main-content\n",
      "https://dot.ca.gov/programs/procurement-and-contracts/contracts-out-for-bidhttps://www.surveymonkey.com/r/NT8JKRM?source=Calsta&src=[src_value]\n",
      "https://dot.ca.gov/programs/procurement-and-contracts/contracts-out-for-bidhttps://www.ca.gov/\n",
      "https://dot.ca.gov/programs/procurement-and-contracts/contracts-out-for-bid/about-caltrans\n",
      "https://dot.ca.gov/programs/procurement-and-contracts/contracts-out-for-bid/contact-us\n",
      "https://dot.ca.gov/programs/procurement-and-contracts/contracts-out-for-bid/-/media/dot-media/documents/caltrans-2021-simm-25-b-certification_onfile-a11y.pdf\n",
      "https://dot.ca.gov/programs/procurement-and-contracts/contracts-out-for-bid/request-ada-compliant-documents\n",
      "https://dot.ca.gov/programs/procurement-and-contracts/contracts-out-for-bid/\n",
      "https://dot.ca.gov/programs/procurement-and-contracts/contracts-out-for-bid/\n",
      "https://dot.ca.gov/programs/procurement-and-contracts/contracts-out-for-bid/travel\n",
      "https://dot.ca.gov/programs/procurement-and-contracts/contracts-out-for-bid/work-with-caltrans\n",
      "https://dot.ca.gov/programs/procurement-and-contracts/contracts-out-for-bid/programs\n",
      "https://dot.ca.gov/programs/procurement-and-contracts/contracts-out-for-bid/caltrans-near-me\n",
      "https://dot.ca.gov/programs/procurement-and-contracts/contracts-out-for-bidjavascript:;\n",
      "https://dot.ca.gov/programs/procurement-and-contracts/contracts-out-for-bid/\n",
      "https://dot.ca.gov/programs/procurement-and-contracts/contracts-out-for-bid/programs\n",
      "https://dot.ca.gov/programs/procurement-and-contracts/contracts-out-for-bid/programs/procurement-and-contracts\n",
      "https://dot.ca.gov/programs/procurement-and-contracts/contracts-out-for-bidhttps://caleprocure.ca.gov/pages/public-search.aspx\n",
      "https://dot.ca.gov/programs/procurement-and-contracts/contracts-out-for-bidhttps://caleprocure.ca.gov/event/2660/03A3446\n",
      "https://dot.ca.gov/programs/procurement-and-contracts/contracts-out-for-bidhttps://caleprocure.ca.gov/event/2660/03A3451\n",
      "https://dot.ca.gov/programs/procurement-and-contracts/contracts-out-for-bidhttps://caleprocure.ca.gov/event/2660/03A3453\n",
      "https://dot.ca.gov/programs/procurement-and-contracts/contracts-out-for-bidhttps://caleprocure.ca.gov/event/2660/03A3469\n",
      "https://dot.ca.gov/programs/procurement-and-contracts/contracts-out-for-bidhttps://caleprocure.ca.gov/event/2660/03A3484\n",
      "https://dot.ca.gov/programs/procurement-and-contracts/contracts-out-for-bidhttps://caleprocure.ca.gov/event/2660/04A6413\n",
      "https://dot.ca.gov/programs/procurement-and-contracts/contracts-out-for-bidhttps://caleprocure.ca.gov/event/2660/04A6426\n",
      "https://dot.ca.gov/programs/procurement-and-contracts/contracts-out-for-bidhttps://caleprocure.ca.gov/event/2660/04A6427\n",
      "https://dot.ca.gov/programs/procurement-and-contracts/contracts-out-for-bidhttps://caleprocure.ca.gov/event/2660/04A6441\n",
      "https://dot.ca.gov/programs/procurement-and-contracts/contracts-out-for-bidhttps://caleprocure.ca.gov/event/2660/04A6443\n",
      "https://dot.ca.gov/programs/procurement-and-contracts/contracts-out-for-bidhttps://caleprocure.ca.gov/event/2660/05A2416\n",
      "https://dot.ca.gov/programs/procurement-and-contracts/contracts-out-for-bidhttps://caleprocure.ca.gov/event/2660/05A2438\n",
      "https://dot.ca.gov/programs/procurement-and-contracts/contracts-out-for-bidhttps://caleprocure.ca.gov/event/2660/05A2455\n",
      "https://dot.ca.gov/programs/procurement-and-contracts/contracts-out-for-bidhttps://caleprocure.ca.gov/event/2660/06A2786\n",
      "https://dot.ca.gov/programs/procurement-and-contracts/contracts-out-for-bidhttps://caleprocure.ca.gov/event/2660/06A2834\n",
      "https://dot.ca.gov/programs/procurement-and-contracts/contracts-out-for-bidhttps://caleprocure.ca.gov/event/2660/06A2840\n",
      "https://dot.ca.gov/programs/procurement-and-contracts/contracts-out-for-bidhttps://caleprocure.ca.gov/event/2660/07A5406\n",
      "https://dot.ca.gov/programs/procurement-and-contracts/contracts-out-for-bidhttps://caleprocure.ca.gov/event/2660/07A5433\n",
      "https://dot.ca.gov/programs/procurement-and-contracts/contracts-out-for-bidhttps://caleprocure.ca.gov/event/2660/08A3468\n",
      "https://dot.ca.gov/programs/procurement-and-contracts/contracts-out-for-bidhttps://caleprocure.ca.gov/event/2660/08A3498\n",
      "https://dot.ca.gov/programs/procurement-and-contracts/contracts-out-for-bidhttps://caleprocure.ca.gov/event/2660/10A2419\n",
      "https://dot.ca.gov/programs/procurement-and-contracts/contracts-out-for-bidhttps://caleprocure.ca.gov/event/2660/10A2420\n",
      "https://dot.ca.gov/programs/procurement-and-contracts/contracts-out-for-bidhttps://caleprocure.ca.gov/event/2660/11A3411\n",
      "https://dot.ca.gov/programs/procurement-and-contracts/contracts-out-for-bidhttps://caleprocure.ca.gov/event/2660/11A3502\n",
      "https://dot.ca.gov/programs/procurement-and-contracts/contracts-out-for-bidhttps://caleprocure.ca.gov/event/2660/11A3503\n",
      "https://dot.ca.gov/programs/procurement-and-contracts/contracts-out-for-bidhttps://caleprocure.ca.gov/event/2660/11A3510\n",
      "https://dot.ca.gov/programs/procurement-and-contracts/contracts-out-for-bidhttps://caleprocure.ca.gov/event/2660/11A3519\n",
      "https://dot.ca.gov/programs/procurement-and-contracts/contracts-out-for-bidhttps://caleprocure.ca.gov/event/2660/11A3525\n",
      "https://dot.ca.gov/programs/procurement-and-contracts/contracts-out-for-bidhttps://caleprocure.ca.gov/event/2660/12A2003\n",
      "https://dot.ca.gov/programs/procurement-and-contracts/contracts-out-for-bidhttps://caleprocure.ca.gov/event/2660/22A1148\n",
      "https://dot.ca.gov/programs/procurement-and-contracts/contracts-out-for-bidhttps://caleprocure.ca.gov/event/2660/59A1200\n",
      "https://dot.ca.gov/programs/procurement-and-contracts/contracts-out-for-bidhttps://caleprocure.ca.gov/event/2660/74A1319\n",
      "https://dot.ca.gov/programs/procurement-and-contracts/contracts-out-for-bidhttps://caleprocure.ca.gov/event/2660/88A0145\n",
      "https://dot.ca.gov/programs/procurement-and-contracts/contracts-out-for-bid/programs/civil-rights/ada-infrastructure-program\n",
      "https://dot.ca.gov/programs/procurement-and-contracts/contracts-out-for-bid/programs/maintenance/adopt-a-highway\n",
      "https://dot.ca.gov/programs/procurement-and-contracts/contracts-out-for-bidhttps://www.chp.ca.gov/news-alerts/amber-alert\n",
      "https://dot.ca.gov/programs/procurement-and-contracts/contracts-out-for-bidhttp://beworkzonealert.com/\n",
      "https://dot.ca.gov/programs/procurement-and-contracts/contracts-out-for-bidhttps://www.fire.ca.gov/incidents/\n",
      "https://dot.ca.gov/programs/procurement-and-contracts/contracts-out-for-bidhttp://www.caclimateinvestments.ca.gov/\n",
      "https://dot.ca.gov/programs/procurement-and-contracts/contracts-out-for-bidhttps://covid19.ca.gov/contact-tracing/\n",
      "https://dot.ca.gov/programs/procurement-and-contracts/contracts-out-for-bid/programs/transportation-planning/division-of-transportation-planning/state-planning-equity-and-engagement/california-transportation-plan\n",
      "https://dot.ca.gov/programs/procurement-and-contracts/contracts-out-for-bidhttps://cleancalifornia.dot.ca.gov\n",
      "https://dot.ca.gov/programs/procurement-and-contracts/contracts-out-for-bidhttps://www.energyupgradeca.org/\n",
      "https://dot.ca.gov/programs/procurement-and-contracts/contracts-out-for-bidhttp://keepyourhomecalifornia.org/\n",
      "https://dot.ca.gov/programs/procurement-and-contracts/contracts-out-for-bidhttp://www.beworkzonealert.com/move-over.html\n",
      "https://dot.ca.gov/programs/procurement-and-contracts/contracts-out-for-bidhttps://caloes.ca.gov/\n",
      "https://dot.ca.gov/programs/procurement-and-contracts/contracts-out-for-bidhttps://www.dmv.ca.gov/portal/dmv/detail/realid\n",
      "https://dot.ca.gov/programs/procurement-and-contracts/contracts-out-for-bidhttps://saveourwater.com/\n",
      "https://dot.ca.gov/programs/procurement-and-contracts/contracts-out-for-bidhttps://preview-cleancalifornia.dot.ca.gov/water\n",
      "https://dot.ca.gov/programs/procurement-and-contracts/contracts-out-for-bidhttps://landlordtenant.dre.ca.gov/\n",
      "https://dot.ca.gov/programs/procurement-and-contracts/contracts-out-for-bidhttps://sco.ca.gov/upd_msg.html\n",
      "https://dot.ca.gov/programs/procurement-and-contracts/contracts-out-for-bid#skip-to-content\n",
      "https://dot.ca.gov/programs/procurement-and-contracts/contracts-out-for-bid/accessibility\n",
      "https://dot.ca.gov/programs/procurement-and-contracts/contracts-out-for-bid/privacy-policy\n",
      "https://dot.ca.gov/programs/procurement-and-contracts/contracts-out-for-bid/conditions-of-use\n",
      "https://dot.ca.gov/programs/procurement-and-contracts/contracts-out-for-bidhttps://registertovote.ca.gov/\n",
      "https://dot.ca.gov/programs/procurement-and-contracts/contracts-out-for-bidhttp://www.facebook.com/CaltransHQ\n",
      "https://dot.ca.gov/programs/procurement-and-contracts/contracts-out-for-bidhttps://twitter.com/CaltransHQ?ref_src=twsrc%5Etfw\n"
     ]
    }
   ],
   "source": [
    "all_links=set()\n",
    "#Get all the links on the page\n",
    "for link in anchors:\n",
    "    if (link.get('href')!='#'):\n",
    "        linkText=\"https://dot.ca.gov/programs/procurement-and-contracts/contracts-out-for-bid\"+link.get('href')\n",
    "        all_links.add(link)\n",
    "        print (linkText)"
   ]
  },
  {
   "cell_type": "code",
   "execution_count": 11,
   "id": "c0bac054",
   "metadata": {},
   "outputs": [
    {
     "data": {
      "text/plain": [
       "[<th scope=\"col\" style=\"width: 100px;\">Event ID</th>,\n",
       " <th scope=\"col\">Event Name</th>,\n",
       " <th scope=\"col\" style=\"width: 250px;\">End Date</th>]"
      ]
     },
     "execution_count": 11,
     "metadata": {},
     "output_type": "execute_result"
    }
   ],
   "source": [
    "heading_tags=soup.find_all('th')\n",
    "heading_tags"
   ]
  },
  {
   "cell_type": "code",
   "execution_count": 12,
   "id": "a40c4f85",
   "metadata": {},
   "outputs": [],
   "source": [
    "data_table=soup.find('table', class_=\"table\")"
   ]
  },
  {
   "cell_type": "code",
   "execution_count": 13,
   "id": "3d4d9315",
   "metadata": {},
   "outputs": [
    {
     "name": "stdout",
     "output_type": "stream",
     "text": [
      "<table class=\"table\">\n",
      "<thead>\n",
      "<tr>\n",
      "<th scope=\"col\" style=\"width: 100px;\">Event ID</th>\n",
      "<th scope=\"col\">Event Name</th>\n",
      "<th scope=\"col\" style=\"width: 250px;\">End Date</th>\n",
      "</tr>\n",
      "</thead>\n",
      "<tbody>\n",
      "<tr>\n",
      "<td><a href=\"https://caleprocure.ca.gov/event/2660/03A3446\" rel=\"noopener noreferrer\" target=\"_blank\">03A3446</a></td>\n",
      "<td>IFB Wildfire Fuel Reduction El Dorado County</td>\n",
      "<td>06/16/22 - 2:00 PM PDT</td>\n",
      "</tr>\n",
      "<tr>\n",
      "<td><a href=\"https://caleprocure.ca.gov/event/2660/03A3451\" rel=\"noopener noreferrer\" target=\"_blank\">03A3451</a><br>\n",
      "</br></td>\n",
      "<td>Inductive Loop Repair in Butte, Colusa, El Dorado, Glenn, Nevada, Placer, Sacramento, Sutter, Yolo, and Yuba Counties<br/>\n",
      "</td>\n",
      "<td>06/16/22 - 2:00 PM PDT<br/>\n",
      "</td>\n",
      "</tr>\n",
      "<tr>\n",
      "<td><a href=\"https://caleprocure.ca.gov/event/2660/03A3453\" rel=\"noopener noreferrer\" target=\"_blank\">03A3453</a><br/>\n",
      "</td>\n",
      "<td>Storm Water Pump Repair in Placer, Sacramento, Sutter, and Yolo Counties<br/>\n",
      "</td>\n",
      "<td>06/16/22 - 2:00 PM PDT<br/>\n",
      "</td>\n",
      "</tr>\n",
      "<tr>\n",
      "<td><a href=\"https://caleprocure.ca.gov/event/2660/03A3469\" rel=\"noopener noreferrer\" target=\"_blank\">03A3469</a></td>\n",
      "<td>IFB Fencing Maintenance, Repair and Replacement Services in Sacramento County</td>\n",
      "<td>06/16/22 - 2:00 PM PDT</td>\n",
      "</tr>\n",
      "<tr>\n",
      "<td><a href=\"https://caleprocure.ca.gov/event/2660/03A3484\">03A3484</a><br/>\n",
      "</td>\n",
      "<td>IFB Wildfire Fuel Reduction in El Dorado County<br/>\n",
      "</td>\n",
      "<td>06/23/22 - 2:00PM PDT</td>\n",
      "</tr>\n",
      "<tr>\n",
      "<td><a href=\"https://caleprocure.ca.gov/event/2660/04A6413\">04A6413</a><br/>\n",
      "</td>\n",
      "<td>IFB 04A6413, Plant Establishment, Treatment and Removal Services, Marin County<br/>\n",
      "</td>\n",
      "<td>06/21/22 - 2:00 PM PDT<br/>\n",
      "</td>\n",
      "</tr>\n",
      "<tr>\n",
      "<td><a href=\"https://caleprocure.ca.gov/event/2660/04A6426\" rel=\"noopener noreferrer\" target=\"_blank\">04A6426</a></td>\n",
      "<td>Pest Control Services in San Francisco, Alameda, Contra Costa, San Mateo, and Marin Counties.</td>\n",
      "<td>06/16/22 - 2:00 PM PDT</td>\n",
      "</tr>\n",
      "<tr>\n",
      "<td><a href=\"https://caleprocure.ca.gov/event/2660/04A6427\" rel=\"noopener noreferrer\" target=\"_blank\">04A6427</a></td>\n",
      "<td>IFB - Landfill Disposal Site Services in Santa Clara County</td>\n",
      "<td>06/16/22 - 2:00 PM PDT<br/>\n",
      "</td>\n",
      "</tr>\n",
      "<tr>\n",
      "<td><a href=\"https://caleprocure.ca.gov/event/2660/04A6441\">04A6441</a><br/>\n",
      "</td>\n",
      "<td>Tree and Stump Removal Service in Santa Clara, San Mateo, and San Francisco Counties<br/>\n",
      "</td>\n",
      "<td>06/23/22 - 2:00 PM PDT</td>\n",
      "</tr>\n",
      "<tr>\n",
      "<td><a href=\"https://caleprocure.ca.gov/event/2660/04A6443\">04A6443</a><br/>\n",
      "</td>\n",
      "<td>IFB Trash Services in San Francisco, San Mateo, and Santa Clara Counties</td>\n",
      "<td>06/23/22 - 2:00PM PDT</td>\n",
      "</tr>\n",
      "<tr>\n",
      "<td><a href=\"https://caleprocure.ca.gov/event/2660/05A2416\" rel=\"noopener noreferrer\" target=\"_blank\">05A2416</a></td>\n",
      "<td>IFB Trash and recycle pick-up, hauling, and disposal services in Santa Barbara County</td>\n",
      "<td>06/16/22 - 2:00 PM PDT</td>\n",
      "</tr>\n",
      "<tr>\n",
      "<td><a href=\"https://caleprocure.ca.gov/event/2660/05A2438\" rel=\"noopener noreferrer\" target=\"_blank\">05A2438</a><br/>\n",
      "</td>\n",
      "<td>Vehicle Security Gate Replacement at the Caltrans San Luis Obispo District Office, CA<br/>\n",
      "</td>\n",
      "<td>06/16/22 - 3:00 PM PDT<br/>\n",
      "</td>\n",
      "</tr>\n",
      "<tr>\n",
      "<td><a href=\"https://caleprocure.ca.gov/event/2660/05A2455\">05A2455</a><br/>\n",
      "</td>\n",
      "<td>Guardrail Repair and/or Replacement Services in Santa Cruz County<br/>\n",
      "</td>\n",
      "<td>06/23/22 - 2:00PM PDT</td>\n",
      "</tr>\n",
      "<tr>\n",
      "<td><a href=\"https://caleprocure.ca.gov/event/2660/06A2786\">06A2786</a><br/>\n",
      "</td>\n",
      "<td>Potholing Agreement</td>\n",
      "<td>06/23/22 - 2:00PM PDT</td>\n",
      "</tr>\n",
      "<tr>\n",
      "<td><a href=\"https://caleprocure.ca.gov/event/2660/06A2834\" rel=\"noopener noreferrer\" target=\"_blank\">06A2834</a></td>\n",
      "<td>Medical Services in Fresno County</td>\n",
      "<td>06/16/22 - 2:00 PM PDT</td>\n",
      "</tr>\n",
      "<tr>\n",
      "<td><a href=\"https://caleprocure.ca.gov/event/2660/06A2840\">06A2840</a><br/>\n",
      "</td>\n",
      "<td>06A2840 Medical Services in Kern County<br/>\n",
      "</td>\n",
      "<td>06/23/2022 2:00PM PDT</td>\n",
      "</tr>\n",
      "<tr>\n",
      "<td><a href=\"https://caleprocure.ca.gov/event/2660/07A5406\" rel=\"noopener noreferrer\" target=\"_blank\">07A5406</a><br/>\n",
      "</td>\n",
      "<td>Sump Pumps Removal and Installation Services - Los Angeles County<br/>\n",
      "</td>\n",
      "<td>06/16/22 - 2:00 PM PDT</td>\n",
      "</tr>\n",
      "<tr>\n",
      "<td><a href=\"https://caleprocure.ca.gov/event/2660/07A5433\">07A5433</a><br/>\n",
      "</td>\n",
      "<td>IFG Guardrail Services in Los Angeles County<br/>\n",
      "</td>\n",
      "<td>06/23/22 - 2:00PM PDT<br/>\n",
      "</td>\n",
      "</tr>\n",
      "<tr>\n",
      "<td><a href=\"https://caleprocure.ca.gov/event/2660/08A3468\">08A3468</a></td>\n",
      "<td>IFB Plumbing Services in Riverside County</td>\n",
      "<td>06/16/22 - 2:00 PM PDT</td>\n",
      "</tr>\n",
      "<tr>\n",
      "<td><a href=\"https://caleprocure.ca.gov/event/2660/08A3498\">08A3498</a><br/>\n",
      "</td>\n",
      "<td>IFB Trash Collection, Hauling and Disposal Services in San Bernardino County<br/>\n",
      "</td>\n",
      "<td>06/21/22 - 2:00 AM PDT<br/>\n",
      "</td>\n",
      "</tr>\n",
      "<tr>\n",
      "<td><a href=\"https://caleprocure.ca.gov/event/2660/10A2419\">10A2419</a><br/>\n",
      "</td>\n",
      "<td>IFB Trash Pick-up, Hauling and Disposal in Stanislaus County<br/>\n",
      "</td>\n",
      "<td>06/23/22 - 2:00PM PDT</td>\n",
      "</tr>\n",
      "<tr>\n",
      "<td><a href=\"https://caleprocure.ca.gov/event/2660/10A2420\">10A2420</a><br/>\n",
      "</td>\n",
      "<td>Unarmed Security Guard Services in Stockton, CA</td>\n",
      "<td>06/23/22 - 2:00PM PDT</td>\n",
      "</tr>\n",
      "<tr>\n",
      "<td><a href=\"https://caleprocure.ca.gov/event/2660/11A3411\" rel=\"noopener noreferrer\" target=\"_blank\">11A3411</a></td>\n",
      "<td> IFB Habitat Restoration Maintenance Services, San Diego County</td>\n",
      "<td>06/16/22 - 2:00 PM PDT</td>\n",
      "</tr>\n",
      "<tr>\n",
      "<td><a href=\"https://caleprocure.ca.gov/event/2660/11A3502\">11A3502</a><br/>\n",
      "</td>\n",
      "<td>Multi-provider Title and Escrow Services for Imperial and San Diego Counties<br/>\n",
      "</td>\n",
      "<td>06/23/22 - 2:15 PM PDT<br/>\n",
      "</td>\n",
      "</tr>\n",
      "<tr>\n",
      "<td><a href=\"https://caleprocure.ca.gov/event/2660/11A3503\">11A3503</a><br/>\n",
      "</td>\n",
      "<td>IFB-Wastewater Maintenance and Service in Imperial County<br/>\n",
      "</td>\n",
      "<td>06/21/22 - 2:00 PM PDT<br/>\n",
      "</td>\n",
      "</tr>\n",
      "<tr>\n",
      "<td><a href=\"https://caleprocure.ca.gov/event/2660/11A3510\" rel=\"noopener noreferrer\" target=\"_blank\">11A3510</a><br/>\n",
      "</td>\n",
      "<td>IFB - Trash Services in Imperial County<br/>\n",
      "</td>\n",
      "<td>06/16/22 - 2:00 PM PDT</td>\n",
      "</tr>\n",
      "<tr>\n",
      "<td><a href=\"https://caleprocure.ca.gov/event/2660/11A3519\">11A3519</a><br/>\n",
      "</td>\n",
      "<td>IFB Battery System Preventative Maintenance Service in San Diego County<br/>\n",
      "</td>\n",
      "<td>06/21/22 - 2:00 PM PDT<br/>\n",
      "</td>\n",
      "</tr>\n",
      "<tr>\n",
      "<td><a href=\"https://caleprocure.ca.gov/event/2660/11A3525\">11A3525</a><br/>\n",
      "</td>\n",
      "<td>IFB On-call, as-needed, Rental of Fully Operated Sweepers in San Diego County<br/>\n",
      "</td>\n",
      "<td>06/21/22 - 2:00 PM PDT<br/>\n",
      "</td>\n",
      "</tr>\n",
      "<tr>\n",
      "<td><a href=\"https://caleprocure.ca.gov/event/2660/12A2003\">12A2003</a><br/>\n",
      "</td>\n",
      "<td>IFB Fencing Maintenance, Repair and Replacement Services in Orange County</td>\n",
      "<td>06/23/22 - 2:00PM PDT</td>\n",
      "</tr>\n",
      "<tr>\n",
      "<td><a href=\"https://caleprocure.ca.gov/event/2660/22A1148\" rel=\"noopener noreferrer\" target=\"_blank\">22A1148</a><br/>\n",
      "</td>\n",
      "<td>Equipment Appliance Service and Repair - Sacramento<br/>\n",
      "</td>\n",
      "<td>06/16/22 - 2:00 PM PDT<br/>\n",
      "</td>\n",
      "</tr>\n",
      "<tr>\n",
      "<td><a href=\"https://caleprocure.ca.gov/event/2660/59A1200\">59A1200</a><br/>\n",
      "</td>\n",
      "<td>IFB 59A1200 Routine Calibration and Verification Services for Caltrans Testing Equipment</td>\n",
      "<td>06/23/22 - 2:00 PM PDT </td>\n",
      "</tr>\n",
      "<tr>\n",
      "<td><a href=\"https://caleprocure.ca.gov/event/2660/74A1319\" rel=\"noopener noreferrer\" target=\"_blank\">74A1319</a><br/>\n",
      "</td>\n",
      "<td>Planning Public Engagement Contract 6 (PPEC 6)<br/>\n",
      "</td>\n",
      "<td>07/07/22 - 1:00 PM PDT<br/>\n",
      "</td>\n",
      "</tr>\n",
      "<tr>\n",
      "<td><a href=\"https://caleprocure.ca.gov/event/2660/88A0145\" rel=\"noopener noreferrer\" target=\"_blank\">88A0145</a><br/>\n",
      "</td>\n",
      "<td>On-the-Job Training/Supportive Services<br/>\n",
      "</td>\n",
      "<td>06/16/22 - 2:00 PM PDT<br/>\n",
      "</td>\n",
      "</tr>\n",
      "</tbody>\n",
      "</table>\n"
     ]
    }
   ],
   "source": [
    "print(data_table)"
   ]
  },
  {
   "cell_type": "code",
   "execution_count": 14,
   "id": "5e479d9c",
   "metadata": {
    "scrolled": true
   },
   "outputs": [],
   "source": [
    "data=[]\n",
    "for event_id in data_table.find_all('tbody'):\n",
    "    rows = event_id.find_all('tr')\n",
    "    for row in rows:\n",
    "        id_id=row.find_all(('td'))\n",
    "        data.append(id_id)      "
   ]
  },
  {
   "cell_type": "code",
   "execution_count": 15,
   "id": "11cc238b",
   "metadata": {},
   "outputs": [
    {
     "data": {
      "text/plain": [
       "[<td><a href=\"https://caleprocure.ca.gov/event/2660/03A3446\" rel=\"noopener noreferrer\" target=\"_blank\">03A3446</a></td>,\n",
       " <td>IFB Wildfire Fuel Reduction El Dorado County</td>,\n",
       " <td>06/16/22 - 2:00 PM PDT</td>]"
      ]
     },
     "execution_count": 15,
     "metadata": {},
     "output_type": "execute_result"
    }
   ],
   "source": [
    "data[0]"
   ]
  },
  {
   "cell_type": "code",
   "execution_count": null,
   "id": "097eaae0",
   "metadata": {},
   "outputs": [],
   "source": []
  },
  {
   "cell_type": "code",
   "execution_count": null,
   "id": "c0db6cc8",
   "metadata": {},
   "outputs": [],
   "source": []
  },
  {
   "cell_type": "code",
   "execution_count": 19,
   "id": "760156b1",
   "metadata": {},
   "outputs": [
    {
     "ename": "AttributeError",
     "evalue": "'list' object has no attribute 'find_all'",
     "output_type": "error",
     "traceback": [
      "\u001b[1;31m---------------------------------------------------------------------------\u001b[0m",
      "\u001b[1;31mAttributeError\u001b[0m                            Traceback (most recent call last)",
      "Input \u001b[1;32mIn [19]\u001b[0m, in \u001b[0;36m<cell line: 4>\u001b[1;34m()\u001b[0m\n\u001b[0;32m      4\u001b[0m \u001b[38;5;28;01mfor\u001b[39;00m i \u001b[38;5;129;01min\u001b[39;00m data:\n\u001b[0;32m      5\u001b[0m     urls\u001b[38;5;241m.\u001b[39mappend(data[\u001b[38;5;241m0\u001b[39m][\u001b[38;5;241m0\u001b[39m]\u001b[38;5;241m.\u001b[39mfind_all(\u001b[38;5;124m'\u001b[39m\u001b[38;5;124ma\u001b[39m\u001b[38;5;124m'\u001b[39m))\n\u001b[1;32m----> 6\u001b[0m     statement\u001b[38;5;241m.\u001b[39mappend(\u001b[38;5;28mstr\u001b[39m(\u001b[43mdata\u001b[49m\u001b[38;5;241;43m.\u001b[39;49m\u001b[43mfind_all\u001b[49m[\u001b[38;5;241m0\u001b[39m][\u001b[38;5;241m1\u001b[39m])[\u001b[38;5;241m4\u001b[39m:\u001b[38;5;241m-\u001b[39m\u001b[38;5;241m5\u001b[39m])\n\u001b[0;32m      7\u001b[0m     dates\u001b[38;5;241m.\u001b[39mappend(\u001b[38;5;28mstr\u001b[39m(data[\u001b[38;5;241m0\u001b[39m][\u001b[38;5;241m2\u001b[39m])[\u001b[38;5;241m4\u001b[39m:\u001b[38;5;241m-\u001b[39m\u001b[38;5;241m5\u001b[39m])\n",
      "\u001b[1;31mAttributeError\u001b[0m: 'list' object has no attribute 'find_all'"
     ]
    }
   ],
   "source": [
    "urls=[]\n",
    "statement=[]\n",
    "dates=[]\n",
    "for i in data:\n",
    "    urls.append(data[0][0].find_all('a'))\n",
    "    statement.append(str(data[0][1])[4:-5])\n",
    "    dates.append(str(data[0][2])[4:-5])"
   ]
  },
  {
   "cell_type": "code",
   "execution_count": 17,
   "id": "80570440",
   "metadata": {},
   "outputs": [
    {
     "data": {
      "text/plain": [
       "([<a href=\"https://caleprocure.ca.gov/event/2660/03A3446\" rel=\"noopener noreferrer\" target=\"_blank\">03A3446</a>,\n",
       "  <a href=\"https://caleprocure.ca.gov/event/2660/03A3446\" rel=\"noopener noreferrer\" target=\"_blank\">03A3446</a>,\n",
       "  <a href=\"https://caleprocure.ca.gov/event/2660/03A3446\" rel=\"noopener noreferrer\" target=\"_blank\">03A3446</a>,\n",
       "  <a href=\"https://caleprocure.ca.gov/event/2660/03A3446\" rel=\"noopener noreferrer\" target=\"_blank\">03A3446</a>,\n",
       "  <a href=\"https://caleprocure.ca.gov/event/2660/03A3446\" rel=\"noopener noreferrer\" target=\"_blank\">03A3446</a>,\n",
       "  <a href=\"https://caleprocure.ca.gov/event/2660/03A3446\" rel=\"noopener noreferrer\" target=\"_blank\">03A3446</a>,\n",
       "  <a href=\"https://caleprocure.ca.gov/event/2660/03A3446\" rel=\"noopener noreferrer\" target=\"_blank\">03A3446</a>,\n",
       "  <a href=\"https://caleprocure.ca.gov/event/2660/03A3446\" rel=\"noopener noreferrer\" target=\"_blank\">03A3446</a>,\n",
       "  <a href=\"https://caleprocure.ca.gov/event/2660/03A3446\" rel=\"noopener noreferrer\" target=\"_blank\">03A3446</a>,\n",
       "  <a href=\"https://caleprocure.ca.gov/event/2660/03A3446\" rel=\"noopener noreferrer\" target=\"_blank\">03A3446</a>,\n",
       "  <a href=\"https://caleprocure.ca.gov/event/2660/03A3446\" rel=\"noopener noreferrer\" target=\"_blank\">03A3446</a>,\n",
       "  <a href=\"https://caleprocure.ca.gov/event/2660/03A3446\" rel=\"noopener noreferrer\" target=\"_blank\">03A3446</a>,\n",
       "  <a href=\"https://caleprocure.ca.gov/event/2660/03A3446\" rel=\"noopener noreferrer\" target=\"_blank\">03A3446</a>,\n",
       "  <a href=\"https://caleprocure.ca.gov/event/2660/03A3446\" rel=\"noopener noreferrer\" target=\"_blank\">03A3446</a>,\n",
       "  <a href=\"https://caleprocure.ca.gov/event/2660/03A3446\" rel=\"noopener noreferrer\" target=\"_blank\">03A3446</a>,\n",
       "  <a href=\"https://caleprocure.ca.gov/event/2660/03A3446\" rel=\"noopener noreferrer\" target=\"_blank\">03A3446</a>,\n",
       "  <a href=\"https://caleprocure.ca.gov/event/2660/03A3446\" rel=\"noopener noreferrer\" target=\"_blank\">03A3446</a>,\n",
       "  <a href=\"https://caleprocure.ca.gov/event/2660/03A3446\" rel=\"noopener noreferrer\" target=\"_blank\">03A3446</a>,\n",
       "  <a href=\"https://caleprocure.ca.gov/event/2660/03A3446\" rel=\"noopener noreferrer\" target=\"_blank\">03A3446</a>,\n",
       "  <a href=\"https://caleprocure.ca.gov/event/2660/03A3446\" rel=\"noopener noreferrer\" target=\"_blank\">03A3446</a>,\n",
       "  <a href=\"https://caleprocure.ca.gov/event/2660/03A3446\" rel=\"noopener noreferrer\" target=\"_blank\">03A3446</a>,\n",
       "  <a href=\"https://caleprocure.ca.gov/event/2660/03A3446\" rel=\"noopener noreferrer\" target=\"_blank\">03A3446</a>,\n",
       "  <a href=\"https://caleprocure.ca.gov/event/2660/03A3446\" rel=\"noopener noreferrer\" target=\"_blank\">03A3446</a>,\n",
       "  <a href=\"https://caleprocure.ca.gov/event/2660/03A3446\" rel=\"noopener noreferrer\" target=\"_blank\">03A3446</a>,\n",
       "  <a href=\"https://caleprocure.ca.gov/event/2660/03A3446\" rel=\"noopener noreferrer\" target=\"_blank\">03A3446</a>,\n",
       "  <a href=\"https://caleprocure.ca.gov/event/2660/03A3446\" rel=\"noopener noreferrer\" target=\"_blank\">03A3446</a>,\n",
       "  <a href=\"https://caleprocure.ca.gov/event/2660/03A3446\" rel=\"noopener noreferrer\" target=\"_blank\">03A3446</a>,\n",
       "  <a href=\"https://caleprocure.ca.gov/event/2660/03A3446\" rel=\"noopener noreferrer\" target=\"_blank\">03A3446</a>,\n",
       "  <a href=\"https://caleprocure.ca.gov/event/2660/03A3446\" rel=\"noopener noreferrer\" target=\"_blank\">03A3446</a>,\n",
       "  <a href=\"https://caleprocure.ca.gov/event/2660/03A3446\" rel=\"noopener noreferrer\" target=\"_blank\">03A3446</a>,\n",
       "  <a href=\"https://caleprocure.ca.gov/event/2660/03A3446\" rel=\"noopener noreferrer\" target=\"_blank\">03A3446</a>,\n",
       "  <a href=\"https://caleprocure.ca.gov/event/2660/03A3446\" rel=\"noopener noreferrer\" target=\"_blank\">03A3446</a>,\n",
       "  <a href=\"https://caleprocure.ca.gov/event/2660/03A3446\" rel=\"noopener noreferrer\" target=\"_blank\">03A3446</a>],\n",
       " ['06/16/22 - 2:00 PM PDT',\n",
       "  '06/16/22 - 2:00 PM PDT',\n",
       "  '06/16/22 - 2:00 PM PDT',\n",
       "  '06/16/22 - 2:00 PM PDT',\n",
       "  '06/16/22 - 2:00 PM PDT',\n",
       "  '06/16/22 - 2:00 PM PDT',\n",
       "  '06/16/22 - 2:00 PM PDT',\n",
       "  '06/16/22 - 2:00 PM PDT',\n",
       "  '06/16/22 - 2:00 PM PDT',\n",
       "  '06/16/22 - 2:00 PM PDT',\n",
       "  '06/16/22 - 2:00 PM PDT',\n",
       "  '06/16/22 - 2:00 PM PDT',\n",
       "  '06/16/22 - 2:00 PM PDT',\n",
       "  '06/16/22 - 2:00 PM PDT',\n",
       "  '06/16/22 - 2:00 PM PDT',\n",
       "  '06/16/22 - 2:00 PM PDT',\n",
       "  '06/16/22 - 2:00 PM PDT',\n",
       "  '06/16/22 - 2:00 PM PDT',\n",
       "  '06/16/22 - 2:00 PM PDT',\n",
       "  '06/16/22 - 2:00 PM PDT',\n",
       "  '06/16/22 - 2:00 PM PDT',\n",
       "  '06/16/22 - 2:00 PM PDT',\n",
       "  '06/16/22 - 2:00 PM PDT',\n",
       "  '06/16/22 - 2:00 PM PDT',\n",
       "  '06/16/22 - 2:00 PM PDT',\n",
       "  '06/16/22 - 2:00 PM PDT',\n",
       "  '06/16/22 - 2:00 PM PDT',\n",
       "  '06/16/22 - 2:00 PM PDT',\n",
       "  '06/16/22 - 2:00 PM PDT',\n",
       "  '06/16/22 - 2:00 PM PDT',\n",
       "  '06/16/22 - 2:00 PM PDT',\n",
       "  '06/16/22 - 2:00 PM PDT',\n",
       "  '06/16/22 - 2:00 PM PDT'],\n",
       " ['IFB Wildfire Fuel Reduction El Dorado County',\n",
       "  'IFB Wildfire Fuel Reduction El Dorado County',\n",
       "  'IFB Wildfire Fuel Reduction El Dorado County',\n",
       "  'IFB Wildfire Fuel Reduction El Dorado County',\n",
       "  'IFB Wildfire Fuel Reduction El Dorado County',\n",
       "  'IFB Wildfire Fuel Reduction El Dorado County',\n",
       "  'IFB Wildfire Fuel Reduction El Dorado County',\n",
       "  'IFB Wildfire Fuel Reduction El Dorado County',\n",
       "  'IFB Wildfire Fuel Reduction El Dorado County',\n",
       "  'IFB Wildfire Fuel Reduction El Dorado County',\n",
       "  'IFB Wildfire Fuel Reduction El Dorado County',\n",
       "  'IFB Wildfire Fuel Reduction El Dorado County',\n",
       "  'IFB Wildfire Fuel Reduction El Dorado County',\n",
       "  'IFB Wildfire Fuel Reduction El Dorado County',\n",
       "  'IFB Wildfire Fuel Reduction El Dorado County',\n",
       "  'IFB Wildfire Fuel Reduction El Dorado County',\n",
       "  'IFB Wildfire Fuel Reduction El Dorado County',\n",
       "  'IFB Wildfire Fuel Reduction El Dorado County',\n",
       "  'IFB Wildfire Fuel Reduction El Dorado County',\n",
       "  'IFB Wildfire Fuel Reduction El Dorado County',\n",
       "  'IFB Wildfire Fuel Reduction El Dorado County',\n",
       "  'IFB Wildfire Fuel Reduction El Dorado County',\n",
       "  'IFB Wildfire Fuel Reduction El Dorado County',\n",
       "  'IFB Wildfire Fuel Reduction El Dorado County',\n",
       "  'IFB Wildfire Fuel Reduction El Dorado County',\n",
       "  'IFB Wildfire Fuel Reduction El Dorado County',\n",
       "  'IFB Wildfire Fuel Reduction El Dorado County',\n",
       "  'IFB Wildfire Fuel Reduction El Dorado County',\n",
       "  'IFB Wildfire Fuel Reduction El Dorado County',\n",
       "  'IFB Wildfire Fuel Reduction El Dorado County',\n",
       "  'IFB Wildfire Fuel Reduction El Dorado County',\n",
       "  'IFB Wildfire Fuel Reduction El Dorado County',\n",
       "  'IFB Wildfire Fuel Reduction El Dorado County'])"
      ]
     },
     "execution_count": 17,
     "metadata": {},
     "output_type": "execute_result"
    }
   ],
   "source": [
    "urls,dates,statement"
   ]
  },
  {
   "cell_type": "code",
   "execution_count": null,
   "id": "9c70d383",
   "metadata": {},
   "outputs": [],
   "source": []
  }
 ],
 "metadata": {
  "kernelspec": {
   "display_name": "Python 3 (ipykernel)",
   "language": "python",
   "name": "python3"
  },
  "language_info": {
   "codemirror_mode": {
    "name": "ipython",
    "version": 3
   },
   "file_extension": ".py",
   "mimetype": "text/x-python",
   "name": "python",
   "nbconvert_exporter": "python",
   "pygments_lexer": "ipython3",
   "version": "3.10.4"
  }
 },
 "nbformat": 4,
 "nbformat_minor": 5
}
